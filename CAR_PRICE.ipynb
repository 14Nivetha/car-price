{
  "cells": [
    {
      "cell_type": "code",
      "execution_count": 1,
      "metadata": {
        "id": "peGnOozbS4jH"
      },
      "outputs": [],
      "source": [
        "import pandas as pd\n",
        "import numpy as np\n",
        "import seaborn as sns\n",
        "import matplotlib as mpl\n",
        "import matplotlib.pyplot as plt"
      ]
    },
    {
      "cell_type": "code",
      "execution_count": 2,
      "metadata": {
        "id": "Nak9rfStTLS9"
      },
      "outputs": [],
      "source": [
        "car= pd.read_csv('car.csv')"
      ]
    },
    {
      "cell_type": "code",
      "execution_count": 3,
      "metadata": {
        "colab": {
          "base_uri": "https://localhost:8080/",
          "height": 672
        },
        "id": "68kwy9SZTS27",
        "outputId": "337eacd3-6aa9-4eba-b59e-e3f57358368a"
      },
      "outputs": [
        {
          "data": {
            "text/html": [
              "<div>\n",
              "<style scoped>\n",
              "    .dataframe tbody tr th:only-of-type {\n",
              "        vertical-align: middle;\n",
              "    }\n",
              "\n",
              "    .dataframe tbody tr th {\n",
              "        vertical-align: top;\n",
              "    }\n",
              "\n",
              "    .dataframe thead th {\n",
              "        text-align: right;\n",
              "    }\n",
              "</style>\n",
              "<table border=\"1\" class=\"dataframe\">\n",
              "  <thead>\n",
              "    <tr style=\"text-align: right;\">\n",
              "      <th></th>\n",
              "      <th>Price</th>\n",
              "      <th>Year</th>\n",
              "      <th>Mileage</th>\n",
              "      <th>City</th>\n",
              "      <th>State</th>\n",
              "      <th>Vin</th>\n",
              "      <th>Make</th>\n",
              "      <th>Model</th>\n",
              "    </tr>\n",
              "  </thead>\n",
              "  <tbody>\n",
              "    <tr>\n",
              "      <th>0</th>\n",
              "      <td>8995</td>\n",
              "      <td>2014</td>\n",
              "      <td>35725</td>\n",
              "      <td>El Paso</td>\n",
              "      <td>TX</td>\n",
              "      <td>19VDE2E53EE000083</td>\n",
              "      <td>Acura</td>\n",
              "      <td>ILX6-Speed</td>\n",
              "    </tr>\n",
              "    <tr>\n",
              "      <th>1</th>\n",
              "      <td>10888</td>\n",
              "      <td>2013</td>\n",
              "      <td>19606</td>\n",
              "      <td>Long Island City</td>\n",
              "      <td>NY</td>\n",
              "      <td>19VDE1F52DE012636</td>\n",
              "      <td>Acura</td>\n",
              "      <td>ILX5-Speed</td>\n",
              "    </tr>\n",
              "    <tr>\n",
              "      <th>2</th>\n",
              "      <td>8995</td>\n",
              "      <td>2013</td>\n",
              "      <td>48851</td>\n",
              "      <td>El Paso</td>\n",
              "      <td>TX</td>\n",
              "      <td>19VDE2E52DE000025</td>\n",
              "      <td>Acura</td>\n",
              "      <td>ILX6-Speed</td>\n",
              "    </tr>\n",
              "    <tr>\n",
              "      <th>3</th>\n",
              "      <td>10999</td>\n",
              "      <td>2014</td>\n",
              "      <td>39922</td>\n",
              "      <td>Windsor</td>\n",
              "      <td>CO</td>\n",
              "      <td>19VDE1F71EE003817</td>\n",
              "      <td>Acura</td>\n",
              "      <td>ILX5-Speed</td>\n",
              "    </tr>\n",
              "    <tr>\n",
              "      <th>4</th>\n",
              "      <td>14799</td>\n",
              "      <td>2016</td>\n",
              "      <td>22142</td>\n",
              "      <td>Lindon</td>\n",
              "      <td>UT</td>\n",
              "      <td>19UDE2F32GA001284</td>\n",
              "      <td>Acura</td>\n",
              "      <td>ILXAutomatic</td>\n",
              "    </tr>\n",
              "    <tr>\n",
              "      <th>...</th>\n",
              "      <td>...</td>\n",
              "      <td>...</td>\n",
              "      <td>...</td>\n",
              "      <td>...</td>\n",
              "      <td>...</td>\n",
              "      <td>...</td>\n",
              "      <td>...</td>\n",
              "      <td>...</td>\n",
              "    </tr>\n",
              "    <tr>\n",
              "      <th>852117</th>\n",
              "      <td>63215</td>\n",
              "      <td>2017</td>\n",
              "      <td>9</td>\n",
              "      <td>Culver City</td>\n",
              "      <td>CA</td>\n",
              "      <td>YV1A22MK9H1013237</td>\n",
              "      <td>Volvo</td>\n",
              "      <td>S90T6</td>\n",
              "    </tr>\n",
              "    <tr>\n",
              "      <th>852118</th>\n",
              "      <td>72260</td>\n",
              "      <td>2017</td>\n",
              "      <td>3201</td>\n",
              "      <td>Englewood</td>\n",
              "      <td>NJ</td>\n",
              "      <td>YV4A22PL3H1186162</td>\n",
              "      <td>Volvo</td>\n",
              "      <td>XC90T6</td>\n",
              "    </tr>\n",
              "    <tr>\n",
              "      <th>852119</th>\n",
              "      <td>55999</td>\n",
              "      <td>2016</td>\n",
              "      <td>28941</td>\n",
              "      <td>Fort Collins</td>\n",
              "      <td>CO</td>\n",
              "      <td>YV4A22PL4G1000868</td>\n",
              "      <td>Volvo</td>\n",
              "      <td>XC90AWD</td>\n",
              "    </tr>\n",
              "    <tr>\n",
              "      <th>852120</th>\n",
              "      <td>60240</td>\n",
              "      <td>2017</td>\n",
              "      <td>3005</td>\n",
              "      <td>San Leandro</td>\n",
              "      <td>CA</td>\n",
              "      <td>YV4A22NLXH1006162</td>\n",
              "      <td>Volvo</td>\n",
              "      <td>V90</td>\n",
              "    </tr>\n",
              "    <tr>\n",
              "      <th>852121</th>\n",
              "      <td>76995</td>\n",
              "      <td>2017</td>\n",
              "      <td>2502</td>\n",
              "      <td>New York</td>\n",
              "      <td>NY</td>\n",
              "      <td>YV4BC0ZX1H1109845</td>\n",
              "      <td>Volvo</td>\n",
              "      <td>XC90T8</td>\n",
              "    </tr>\n",
              "  </tbody>\n",
              "</table>\n",
              "<p>852122 rows × 8 columns</p>\n",
              "</div>"
            ],
            "text/plain": [
              "        Price  Year  Mileage              City State                Vin  \\\n",
              "0        8995  2014    35725           El Paso    TX  19VDE2E53EE000083   \n",
              "1       10888  2013    19606  Long Island City    NY  19VDE1F52DE012636   \n",
              "2        8995  2013    48851           El Paso    TX  19VDE2E52DE000025   \n",
              "3       10999  2014    39922           Windsor    CO  19VDE1F71EE003817   \n",
              "4       14799  2016    22142            Lindon    UT  19UDE2F32GA001284   \n",
              "...       ...   ...      ...               ...   ...                ...   \n",
              "852117  63215  2017        9       Culver City    CA  YV1A22MK9H1013237   \n",
              "852118  72260  2017     3201         Englewood    NJ  YV4A22PL3H1186162   \n",
              "852119  55999  2016    28941      Fort Collins    CO  YV4A22PL4G1000868   \n",
              "852120  60240  2017     3005       San Leandro    CA  YV4A22NLXH1006162   \n",
              "852121  76995  2017     2502          New York    NY  YV4BC0ZX1H1109845   \n",
              "\n",
              "         Make         Model  \n",
              "0       Acura    ILX6-Speed  \n",
              "1       Acura    ILX5-Speed  \n",
              "2       Acura    ILX6-Speed  \n",
              "3       Acura    ILX5-Speed  \n",
              "4       Acura  ILXAutomatic  \n",
              "...       ...           ...  \n",
              "852117  Volvo         S90T6  \n",
              "852118  Volvo        XC90T6  \n",
              "852119  Volvo       XC90AWD  \n",
              "852120  Volvo           V90  \n",
              "852121  Volvo        XC90T8  \n",
              "\n",
              "[852122 rows x 8 columns]"
            ]
          },
          "execution_count": 3,
          "metadata": {},
          "output_type": "execute_result"
        }
      ],
      "source": [
        "car"
      ]
    },
    {
      "cell_type": "code",
      "execution_count": 4,
      "metadata": {
        "colab": {
          "base_uri": "https://localhost:8080/"
        },
        "id": "LfeV1cU_TX57",
        "outputId": "3a6108c6-f44e-4cf4-898b-2407a4617bbf"
      },
      "outputs": [
        {
          "data": {
            "text/plain": [
              "1G1RA6E44EU129757    2\n",
              "3FA6P0H93GR316968    2\n",
              "3FA6P0HD1ER204199    2\n",
              "2G1FE1EVXA9224849    2\n",
              "2G1WT58K781214125    2\n",
              "                    ..\n",
              "19XFC1F35GE027608    1\n",
              "1FBSS31L77DB42334    1\n",
              "1C6RR6TT8HS676225    1\n",
              "KNMAT2MV9FP529833    1\n",
              "4S4BSBLC0F3236381    1\n",
              "Name: Vin, Length: 852075, dtype: int64"
            ]
          },
          "execution_count": 4,
          "metadata": {},
          "output_type": "execute_result"
        }
      ],
      "source": [
        "car['Vin'].value_counts()"
      ]
    },
    {
      "cell_type": "code",
      "execution_count": 5,
      "metadata": {
        "id": "3TkNBPSGUVFw"
      },
      "outputs": [],
      "source": [
        "from sklearn import preprocessing\n"
      ]
    },
    {
      "cell_type": "code",
      "execution_count": 6,
      "metadata": {
        "colab": {
          "base_uri": "https://localhost:8080/",
          "height": 424
        },
        "id": "77iLYchlVvZR",
        "outputId": "33892fd7-fea5-473e-d19a-4b212759ad8d"
      },
      "outputs": [
        {
          "data": {
            "text/html": [
              "<div>\n",
              "<style scoped>\n",
              "    .dataframe tbody tr th:only-of-type {\n",
              "        vertical-align: middle;\n",
              "    }\n",
              "\n",
              "    .dataframe tbody tr th {\n",
              "        vertical-align: top;\n",
              "    }\n",
              "\n",
              "    .dataframe thead th {\n",
              "        text-align: right;\n",
              "    }\n",
              "</style>\n",
              "<table border=\"1\" class=\"dataframe\">\n",
              "  <thead>\n",
              "    <tr style=\"text-align: right;\">\n",
              "      <th></th>\n",
              "      <th>Price</th>\n",
              "      <th>Year</th>\n",
              "      <th>Mileage</th>\n",
              "      <th>City</th>\n",
              "      <th>State</th>\n",
              "      <th>Vin</th>\n",
              "      <th>Make</th>\n",
              "      <th>Model</th>\n",
              "    </tr>\n",
              "  </thead>\n",
              "  <tbody>\n",
              "    <tr>\n",
              "      <th>0</th>\n",
              "      <td>8995</td>\n",
              "      <td>2014</td>\n",
              "      <td>35725</td>\n",
              "      <td>El Paso</td>\n",
              "      <td>TX</td>\n",
              "      <td>19VDE2E53EE000083</td>\n",
              "      <td>Acura</td>\n",
              "      <td>ILX6-Speed</td>\n",
              "    </tr>\n",
              "    <tr>\n",
              "      <th>1</th>\n",
              "      <td>10888</td>\n",
              "      <td>2013</td>\n",
              "      <td>19606</td>\n",
              "      <td>Long Island City</td>\n",
              "      <td>NY</td>\n",
              "      <td>19VDE1F52DE012636</td>\n",
              "      <td>Acura</td>\n",
              "      <td>ILX5-Speed</td>\n",
              "    </tr>\n",
              "    <tr>\n",
              "      <th>2</th>\n",
              "      <td>8995</td>\n",
              "      <td>2013</td>\n",
              "      <td>48851</td>\n",
              "      <td>El Paso</td>\n",
              "      <td>TX</td>\n",
              "      <td>19VDE2E52DE000025</td>\n",
              "      <td>Acura</td>\n",
              "      <td>ILX6-Speed</td>\n",
              "    </tr>\n",
              "    <tr>\n",
              "      <th>3</th>\n",
              "      <td>10999</td>\n",
              "      <td>2014</td>\n",
              "      <td>39922</td>\n",
              "      <td>Windsor</td>\n",
              "      <td>CO</td>\n",
              "      <td>19VDE1F71EE003817</td>\n",
              "      <td>Acura</td>\n",
              "      <td>ILX5-Speed</td>\n",
              "    </tr>\n",
              "    <tr>\n",
              "      <th>4</th>\n",
              "      <td>14799</td>\n",
              "      <td>2016</td>\n",
              "      <td>22142</td>\n",
              "      <td>Lindon</td>\n",
              "      <td>UT</td>\n",
              "      <td>19UDE2F32GA001284</td>\n",
              "      <td>Acura</td>\n",
              "      <td>ILXAutomatic</td>\n",
              "    </tr>\n",
              "    <tr>\n",
              "      <th>...</th>\n",
              "      <td>...</td>\n",
              "      <td>...</td>\n",
              "      <td>...</td>\n",
              "      <td>...</td>\n",
              "      <td>...</td>\n",
              "      <td>...</td>\n",
              "      <td>...</td>\n",
              "      <td>...</td>\n",
              "    </tr>\n",
              "    <tr>\n",
              "      <th>852117</th>\n",
              "      <td>63215</td>\n",
              "      <td>2017</td>\n",
              "      <td>9</td>\n",
              "      <td>Culver City</td>\n",
              "      <td>CA</td>\n",
              "      <td>YV1A22MK9H1013237</td>\n",
              "      <td>Volvo</td>\n",
              "      <td>S90T6</td>\n",
              "    </tr>\n",
              "    <tr>\n",
              "      <th>852118</th>\n",
              "      <td>72260</td>\n",
              "      <td>2017</td>\n",
              "      <td>3201</td>\n",
              "      <td>Englewood</td>\n",
              "      <td>NJ</td>\n",
              "      <td>YV4A22PL3H1186162</td>\n",
              "      <td>Volvo</td>\n",
              "      <td>XC90T6</td>\n",
              "    </tr>\n",
              "    <tr>\n",
              "      <th>852119</th>\n",
              "      <td>55999</td>\n",
              "      <td>2016</td>\n",
              "      <td>28941</td>\n",
              "      <td>Fort Collins</td>\n",
              "      <td>CO</td>\n",
              "      <td>YV4A22PL4G1000868</td>\n",
              "      <td>Volvo</td>\n",
              "      <td>XC90AWD</td>\n",
              "    </tr>\n",
              "    <tr>\n",
              "      <th>852120</th>\n",
              "      <td>60240</td>\n",
              "      <td>2017</td>\n",
              "      <td>3005</td>\n",
              "      <td>San Leandro</td>\n",
              "      <td>CA</td>\n",
              "      <td>YV4A22NLXH1006162</td>\n",
              "      <td>Volvo</td>\n",
              "      <td>V90</td>\n",
              "    </tr>\n",
              "    <tr>\n",
              "      <th>852121</th>\n",
              "      <td>76995</td>\n",
              "      <td>2017</td>\n",
              "      <td>2502</td>\n",
              "      <td>New York</td>\n",
              "      <td>NY</td>\n",
              "      <td>YV4BC0ZX1H1109845</td>\n",
              "      <td>Volvo</td>\n",
              "      <td>XC90T8</td>\n",
              "    </tr>\n",
              "  </tbody>\n",
              "</table>\n",
              "<p>852122 rows × 8 columns</p>\n",
              "</div>"
            ],
            "text/plain": [
              "        Price  Year  Mileage              City State                Vin  \\\n",
              "0        8995  2014    35725           El Paso    TX  19VDE2E53EE000083   \n",
              "1       10888  2013    19606  Long Island City    NY  19VDE1F52DE012636   \n",
              "2        8995  2013    48851           El Paso    TX  19VDE2E52DE000025   \n",
              "3       10999  2014    39922           Windsor    CO  19VDE1F71EE003817   \n",
              "4       14799  2016    22142            Lindon    UT  19UDE2F32GA001284   \n",
              "...       ...   ...      ...               ...   ...                ...   \n",
              "852117  63215  2017        9       Culver City    CA  YV1A22MK9H1013237   \n",
              "852118  72260  2017     3201         Englewood    NJ  YV4A22PL3H1186162   \n",
              "852119  55999  2016    28941      Fort Collins    CO  YV4A22PL4G1000868   \n",
              "852120  60240  2017     3005       San Leandro    CA  YV4A22NLXH1006162   \n",
              "852121  76995  2017     2502          New York    NY  YV4BC0ZX1H1109845   \n",
              "\n",
              "         Make         Model  \n",
              "0       Acura    ILX6-Speed  \n",
              "1       Acura    ILX5-Speed  \n",
              "2       Acura    ILX6-Speed  \n",
              "3       Acura    ILX5-Speed  \n",
              "4       Acura  ILXAutomatic  \n",
              "...       ...           ...  \n",
              "852117  Volvo         S90T6  \n",
              "852118  Volvo        XC90T6  \n",
              "852119  Volvo       XC90AWD  \n",
              "852120  Volvo           V90  \n",
              "852121  Volvo        XC90T8  \n",
              "\n",
              "[852122 rows x 8 columns]"
            ]
          },
          "execution_count": 6,
          "metadata": {},
          "output_type": "execute_result"
        }
      ],
      "source": [
        "car"
      ]
    },
    {
      "cell_type": "code",
      "execution_count": 7,
      "metadata": {
        "colab": {
          "base_uri": "https://localhost:8080/",
          "height": 424
        },
        "id": "0fghLE4ZvKdO",
        "outputId": "2d49d6d8-484f-4162-c05a-227ac8e1a1c0"
      },
      "outputs": [
        {
          "data": {
            "text/html": [
              "<div>\n",
              "<style scoped>\n",
              "    .dataframe tbody tr th:only-of-type {\n",
              "        vertical-align: middle;\n",
              "    }\n",
              "\n",
              "    .dataframe tbody tr th {\n",
              "        vertical-align: top;\n",
              "    }\n",
              "\n",
              "    .dataframe thead th {\n",
              "        text-align: right;\n",
              "    }\n",
              "</style>\n",
              "<table border=\"1\" class=\"dataframe\">\n",
              "  <thead>\n",
              "    <tr style=\"text-align: right;\">\n",
              "      <th></th>\n",
              "      <th>Price</th>\n",
              "      <th>Year</th>\n",
              "      <th>Mileage</th>\n",
              "      <th>City</th>\n",
              "      <th>State</th>\n",
              "      <th>Vin</th>\n",
              "      <th>Model</th>\n",
              "    </tr>\n",
              "  </thead>\n",
              "  <tbody>\n",
              "    <tr>\n",
              "      <th>0</th>\n",
              "      <td>8995</td>\n",
              "      <td>2014</td>\n",
              "      <td>35725</td>\n",
              "      <td>El Paso</td>\n",
              "      <td>TX</td>\n",
              "      <td>19VDE2E53EE000083</td>\n",
              "      <td>ILX6-Speed</td>\n",
              "    </tr>\n",
              "    <tr>\n",
              "      <th>1</th>\n",
              "      <td>10888</td>\n",
              "      <td>2013</td>\n",
              "      <td>19606</td>\n",
              "      <td>Long Island City</td>\n",
              "      <td>NY</td>\n",
              "      <td>19VDE1F52DE012636</td>\n",
              "      <td>ILX5-Speed</td>\n",
              "    </tr>\n",
              "    <tr>\n",
              "      <th>2</th>\n",
              "      <td>8995</td>\n",
              "      <td>2013</td>\n",
              "      <td>48851</td>\n",
              "      <td>El Paso</td>\n",
              "      <td>TX</td>\n",
              "      <td>19VDE2E52DE000025</td>\n",
              "      <td>ILX6-Speed</td>\n",
              "    </tr>\n",
              "    <tr>\n",
              "      <th>3</th>\n",
              "      <td>10999</td>\n",
              "      <td>2014</td>\n",
              "      <td>39922</td>\n",
              "      <td>Windsor</td>\n",
              "      <td>CO</td>\n",
              "      <td>19VDE1F71EE003817</td>\n",
              "      <td>ILX5-Speed</td>\n",
              "    </tr>\n",
              "    <tr>\n",
              "      <th>4</th>\n",
              "      <td>14799</td>\n",
              "      <td>2016</td>\n",
              "      <td>22142</td>\n",
              "      <td>Lindon</td>\n",
              "      <td>UT</td>\n",
              "      <td>19UDE2F32GA001284</td>\n",
              "      <td>ILXAutomatic</td>\n",
              "    </tr>\n",
              "    <tr>\n",
              "      <th>...</th>\n",
              "      <td>...</td>\n",
              "      <td>...</td>\n",
              "      <td>...</td>\n",
              "      <td>...</td>\n",
              "      <td>...</td>\n",
              "      <td>...</td>\n",
              "      <td>...</td>\n",
              "    </tr>\n",
              "    <tr>\n",
              "      <th>852117</th>\n",
              "      <td>63215</td>\n",
              "      <td>2017</td>\n",
              "      <td>9</td>\n",
              "      <td>Culver City</td>\n",
              "      <td>CA</td>\n",
              "      <td>YV1A22MK9H1013237</td>\n",
              "      <td>S90T6</td>\n",
              "    </tr>\n",
              "    <tr>\n",
              "      <th>852118</th>\n",
              "      <td>72260</td>\n",
              "      <td>2017</td>\n",
              "      <td>3201</td>\n",
              "      <td>Englewood</td>\n",
              "      <td>NJ</td>\n",
              "      <td>YV4A22PL3H1186162</td>\n",
              "      <td>XC90T6</td>\n",
              "    </tr>\n",
              "    <tr>\n",
              "      <th>852119</th>\n",
              "      <td>55999</td>\n",
              "      <td>2016</td>\n",
              "      <td>28941</td>\n",
              "      <td>Fort Collins</td>\n",
              "      <td>CO</td>\n",
              "      <td>YV4A22PL4G1000868</td>\n",
              "      <td>XC90AWD</td>\n",
              "    </tr>\n",
              "    <tr>\n",
              "      <th>852120</th>\n",
              "      <td>60240</td>\n",
              "      <td>2017</td>\n",
              "      <td>3005</td>\n",
              "      <td>San Leandro</td>\n",
              "      <td>CA</td>\n",
              "      <td>YV4A22NLXH1006162</td>\n",
              "      <td>V90</td>\n",
              "    </tr>\n",
              "    <tr>\n",
              "      <th>852121</th>\n",
              "      <td>76995</td>\n",
              "      <td>2017</td>\n",
              "      <td>2502</td>\n",
              "      <td>New York</td>\n",
              "      <td>NY</td>\n",
              "      <td>YV4BC0ZX1H1109845</td>\n",
              "      <td>XC90T8</td>\n",
              "    </tr>\n",
              "  </tbody>\n",
              "</table>\n",
              "<p>852122 rows × 7 columns</p>\n",
              "</div>"
            ],
            "text/plain": [
              "        Price  Year  Mileage              City State                Vin  \\\n",
              "0        8995  2014    35725           El Paso    TX  19VDE2E53EE000083   \n",
              "1       10888  2013    19606  Long Island City    NY  19VDE1F52DE012636   \n",
              "2        8995  2013    48851           El Paso    TX  19VDE2E52DE000025   \n",
              "3       10999  2014    39922           Windsor    CO  19VDE1F71EE003817   \n",
              "4       14799  2016    22142            Lindon    UT  19UDE2F32GA001284   \n",
              "...       ...   ...      ...               ...   ...                ...   \n",
              "852117  63215  2017        9       Culver City    CA  YV1A22MK9H1013237   \n",
              "852118  72260  2017     3201         Englewood    NJ  YV4A22PL3H1186162   \n",
              "852119  55999  2016    28941      Fort Collins    CO  YV4A22PL4G1000868   \n",
              "852120  60240  2017     3005       San Leandro    CA  YV4A22NLXH1006162   \n",
              "852121  76995  2017     2502          New York    NY  YV4BC0ZX1H1109845   \n",
              "\n",
              "               Model  \n",
              "0         ILX6-Speed  \n",
              "1         ILX5-Speed  \n",
              "2         ILX6-Speed  \n",
              "3         ILX5-Speed  \n",
              "4       ILXAutomatic  \n",
              "...              ...  \n",
              "852117         S90T6  \n",
              "852118        XC90T6  \n",
              "852119       XC90AWD  \n",
              "852120           V90  \n",
              "852121        XC90T8  \n",
              "\n",
              "[852122 rows x 7 columns]"
            ]
          },
          "execution_count": 7,
          "metadata": {},
          "output_type": "execute_result"
        }
      ],
      "source": [
        "car=car.drop([\"Make\"],axis=1)\n",
        "car\n"
      ]
    },
    {
      "cell_type": "code",
      "execution_count": 8,
      "metadata": {
        "colab": {
          "base_uri": "https://localhost:8080/"
        },
        "id": "d390dApbTHyu",
        "outputId": "a2ecac0d-bcd6-4c8e-c84d-150d7630380d"
      },
      "outputs": [
        {
          "data": {
            "text/plain": [
              "<bound method Series.unique of 0         1194\n",
              "1         1193\n",
              "2         1194\n",
              "3         1193\n",
              "4         1196\n",
              "          ... \n",
              "852117    2034\n",
              "852118    2570\n",
              "852119    2564\n",
              "852120    2404\n",
              "852121    2571\n",
              "Name: Model, Length: 852122, dtype: int64>"
            ]
          },
          "execution_count": 8,
          "metadata": {},
          "output_type": "execute_result"
        }
      ],
      "source": [
        "from sklearn import preprocessing\n",
        "label_encoder=preprocessing.LabelEncoder()\n",
        "car['Model']=label_encoder.fit_transform(car['Model'])\n",
        "car['Model'].unique\n"
      ]
    },
    {
      "cell_type": "code",
      "execution_count": 9,
      "metadata": {
        "colab": {
          "base_uri": "https://localhost:8080/"
        },
        "id": "Atoe3taLT5OO",
        "outputId": "739f12d9-2125-4dad-8f86-2f0f74bc8168"
      },
      "outputs": [
        {
          "data": {
            "text/plain": [
              "<bound method Series.unique of 0         49\n",
              "1         39\n",
              "2         49\n",
              "3          6\n",
              "4         50\n",
              "          ..\n",
              "852117     5\n",
              "852118    36\n",
              "852119     6\n",
              "852120     5\n",
              "852121    39\n",
              "Name: State, Length: 852122, dtype: int64>"
            ]
          },
          "execution_count": 9,
          "metadata": {},
          "output_type": "execute_result"
        }
      ],
      "source": [
        "label_encoder=preprocessing.LabelEncoder()\n",
        "car['State']=label_encoder.fit_transform(car['State'])\n",
        "car['State'].unique"
      ]
    },
    {
      "cell_type": "code",
      "execution_count": 10,
      "metadata": {
        "colab": {
          "base_uri": "https://localhost:8080/",
          "height": 424
        },
        "id": "eV0vN5k_TfdU",
        "outputId": "3087375b-bd2d-43de-a9e5-751abb416812"
      },
      "outputs": [
        {
          "data": {
            "text/html": [
              "<div>\n",
              "<style scoped>\n",
              "    .dataframe tbody tr th:only-of-type {\n",
              "        vertical-align: middle;\n",
              "    }\n",
              "\n",
              "    .dataframe tbody tr th {\n",
              "        vertical-align: top;\n",
              "    }\n",
              "\n",
              "    .dataframe thead th {\n",
              "        text-align: right;\n",
              "    }\n",
              "</style>\n",
              "<table border=\"1\" class=\"dataframe\">\n",
              "  <thead>\n",
              "    <tr style=\"text-align: right;\">\n",
              "      <th></th>\n",
              "      <th>Price</th>\n",
              "      <th>Year</th>\n",
              "      <th>Mileage</th>\n",
              "      <th>City</th>\n",
              "      <th>State</th>\n",
              "      <th>Vin</th>\n",
              "      <th>Model</th>\n",
              "    </tr>\n",
              "  </thead>\n",
              "  <tbody>\n",
              "    <tr>\n",
              "      <th>0</th>\n",
              "      <td>8995</td>\n",
              "      <td>2014</td>\n",
              "      <td>35725</td>\n",
              "      <td>El Paso</td>\n",
              "      <td>49</td>\n",
              "      <td>19VDE2E53EE000083</td>\n",
              "      <td>1194</td>\n",
              "    </tr>\n",
              "    <tr>\n",
              "      <th>1</th>\n",
              "      <td>10888</td>\n",
              "      <td>2013</td>\n",
              "      <td>19606</td>\n",
              "      <td>Long Island City</td>\n",
              "      <td>39</td>\n",
              "      <td>19VDE1F52DE012636</td>\n",
              "      <td>1193</td>\n",
              "    </tr>\n",
              "    <tr>\n",
              "      <th>2</th>\n",
              "      <td>8995</td>\n",
              "      <td>2013</td>\n",
              "      <td>48851</td>\n",
              "      <td>El Paso</td>\n",
              "      <td>49</td>\n",
              "      <td>19VDE2E52DE000025</td>\n",
              "      <td>1194</td>\n",
              "    </tr>\n",
              "    <tr>\n",
              "      <th>3</th>\n",
              "      <td>10999</td>\n",
              "      <td>2014</td>\n",
              "      <td>39922</td>\n",
              "      <td>Windsor</td>\n",
              "      <td>6</td>\n",
              "      <td>19VDE1F71EE003817</td>\n",
              "      <td>1193</td>\n",
              "    </tr>\n",
              "    <tr>\n",
              "      <th>4</th>\n",
              "      <td>14799</td>\n",
              "      <td>2016</td>\n",
              "      <td>22142</td>\n",
              "      <td>Lindon</td>\n",
              "      <td>50</td>\n",
              "      <td>19UDE2F32GA001284</td>\n",
              "      <td>1196</td>\n",
              "    </tr>\n",
              "    <tr>\n",
              "      <th>...</th>\n",
              "      <td>...</td>\n",
              "      <td>...</td>\n",
              "      <td>...</td>\n",
              "      <td>...</td>\n",
              "      <td>...</td>\n",
              "      <td>...</td>\n",
              "      <td>...</td>\n",
              "    </tr>\n",
              "    <tr>\n",
              "      <th>852117</th>\n",
              "      <td>63215</td>\n",
              "      <td>2017</td>\n",
              "      <td>9</td>\n",
              "      <td>Culver City</td>\n",
              "      <td>5</td>\n",
              "      <td>YV1A22MK9H1013237</td>\n",
              "      <td>2034</td>\n",
              "    </tr>\n",
              "    <tr>\n",
              "      <th>852118</th>\n",
              "      <td>72260</td>\n",
              "      <td>2017</td>\n",
              "      <td>3201</td>\n",
              "      <td>Englewood</td>\n",
              "      <td>36</td>\n",
              "      <td>YV4A22PL3H1186162</td>\n",
              "      <td>2570</td>\n",
              "    </tr>\n",
              "    <tr>\n",
              "      <th>852119</th>\n",
              "      <td>55999</td>\n",
              "      <td>2016</td>\n",
              "      <td>28941</td>\n",
              "      <td>Fort Collins</td>\n",
              "      <td>6</td>\n",
              "      <td>YV4A22PL4G1000868</td>\n",
              "      <td>2564</td>\n",
              "    </tr>\n",
              "    <tr>\n",
              "      <th>852120</th>\n",
              "      <td>60240</td>\n",
              "      <td>2017</td>\n",
              "      <td>3005</td>\n",
              "      <td>San Leandro</td>\n",
              "      <td>5</td>\n",
              "      <td>YV4A22NLXH1006162</td>\n",
              "      <td>2404</td>\n",
              "    </tr>\n",
              "    <tr>\n",
              "      <th>852121</th>\n",
              "      <td>76995</td>\n",
              "      <td>2017</td>\n",
              "      <td>2502</td>\n",
              "      <td>New York</td>\n",
              "      <td>39</td>\n",
              "      <td>YV4BC0ZX1H1109845</td>\n",
              "      <td>2571</td>\n",
              "    </tr>\n",
              "  </tbody>\n",
              "</table>\n",
              "<p>852122 rows × 7 columns</p>\n",
              "</div>"
            ],
            "text/plain": [
              "        Price  Year  Mileage              City  State                Vin  \\\n",
              "0        8995  2014    35725           El Paso     49  19VDE2E53EE000083   \n",
              "1       10888  2013    19606  Long Island City     39  19VDE1F52DE012636   \n",
              "2        8995  2013    48851           El Paso     49  19VDE2E52DE000025   \n",
              "3       10999  2014    39922           Windsor      6  19VDE1F71EE003817   \n",
              "4       14799  2016    22142            Lindon     50  19UDE2F32GA001284   \n",
              "...       ...   ...      ...               ...    ...                ...   \n",
              "852117  63215  2017        9       Culver City      5  YV1A22MK9H1013237   \n",
              "852118  72260  2017     3201         Englewood     36  YV4A22PL3H1186162   \n",
              "852119  55999  2016    28941      Fort Collins      6  YV4A22PL4G1000868   \n",
              "852120  60240  2017     3005       San Leandro      5  YV4A22NLXH1006162   \n",
              "852121  76995  2017     2502          New York     39  YV4BC0ZX1H1109845   \n",
              "\n",
              "        Model  \n",
              "0        1194  \n",
              "1        1193  \n",
              "2        1194  \n",
              "3        1193  \n",
              "4        1196  \n",
              "...       ...  \n",
              "852117   2034  \n",
              "852118   2570  \n",
              "852119   2564  \n",
              "852120   2404  \n",
              "852121   2571  \n",
              "\n",
              "[852122 rows x 7 columns]"
            ]
          },
          "execution_count": 10,
          "metadata": {},
          "output_type": "execute_result"
        }
      ],
      "source": [
        "car"
      ]
    },
    {
      "cell_type": "code",
      "execution_count": 11,
      "metadata": {
        "colab": {
          "base_uri": "https://localhost:8080/",
          "height": 646
        },
        "id": "tebEHgwJzB4a",
        "outputId": "ce52be54-2f08-4585-f504-9d0b7d06f6fa"
      },
      "outputs": [
        {
          "data": {
            "image/png": "[encoded data removed]",
            "text/plain": [
              "<Figure size 792x792 with 1 Axes>"
            ]
          },
          "metadata": {
            "needs_background": "light"
          },
          "output_type": "display_data"
        }
      ],
      "source": [
        "#visalizing\n",
        "plt.figure(figsize=(11,11))\n",
        "plt.scatter(y=\"Price\",x=\"Mileage\")\n",
        "plt.show()\n"
      ]
    },
    {
      "cell_type": "code",
      "execution_count": 12,
      "metadata": {
        "colab": {
          "base_uri": "https://localhost:8080/",
          "height": 867
        },
        "id": "CgyvScZtAKo2",
        "outputId": "155319f4-572d-4cff-eae4-cf5494e19f63"
      },
      "outputs": [
        {
          "data": {
            "image/png": "[encoded data removed]",
            "text/plain": [
              "<Figure size 720x1080 with 2 Axes>"
            ]
          },
          "metadata": {
            "needs_background": "light"
          },
          "output_type": "display_data"
        }
      ],
      "source": [
        "plt.figure(figsize=(10, 15))\n",
        "correlations = car.corr()\n",
        "sns.heatmap(correlations, cmap=\"coolwarm\", annot=True)\n",
        "plt.show()"
      ]
    },
    {
      "cell_type": "code",
      "execution_count": 13,
      "metadata": {
        "colab": {
          "base_uri": "https://localhost:8080/"
        },
        "id": "1nuBwi-l5bM3",
        "outputId": "29879af8-822b-4742-c64d-86ef4e1e7953"
      },
      "outputs": [
        {
          "data": {
            "text/plain": [
              "Index(['Price', 'Year', 'Mileage', 'City', 'State', 'Vin', 'Model'], dtype='object')"
            ]
          },
          "execution_count": 13,
          "metadata": {},
          "output_type": "execute_result"
        }
      ],
      "source": [
        "\n",
        "car.columns\n",
        "\n"
      ]
    },
    {
      "cell_type": "code",
      "execution_count": 14,
      "metadata": {
        "id": "-9IOAr0s8Tfm"
      },
      "outputs": [],
      "source": [
        "from sklearn.model_selection import train_test_split"
      ]
    },
    {
      "cell_type": "code",
      "execution_count": 15,
      "metadata": {
        "id": "wFLJqvM-9H7c"
      },
      "outputs": [],
      "source": [
        "x=car.drop(['Vin','City','State','Price'], axis = 1)\n",
        "y=car['Price']"
      ]
    },
    {
      "cell_type": "code",
      "execution_count": 16,
      "metadata": {
        "colab": {
          "base_uri": "https://localhost:8080/"
        },
        "id": "X3EKTlen_gPM",
        "outputId": "a6ceb701-a46e-4ddb-84f9-d65801896739"
      },
      "outputs": [
        {
          "data": {
            "text/plain": [
              "0          8995\n",
              "1         10888\n",
              "2          8995\n",
              "3         10999\n",
              "4         14799\n",
              "          ...  \n",
              "852117    63215\n",
              "852118    72260\n",
              "852119    55999\n",
              "852120    60240\n",
              "852121    76995\n",
              "Name: Price, Length: 852122, dtype: int64"
            ]
          },
          "execution_count": 16,
          "metadata": {},
          "output_type": "execute_result"
        }
      ],
      "source": [
        "y"
      ]
    },
    {
      "cell_type": "code",
      "execution_count": 17,
      "metadata": {
        "colab": {
          "base_uri": "https://localhost:8080/",
          "height": 424
        },
        "id": "6MRPExyI-3KZ",
        "outputId": "2dd64d1b-44fd-4eb0-86f1-4e4c47da1b84"
      },
      "outputs": [
        {
          "data": {
            "text/html": [
              "<div>\n",
              "<style scoped>\n",
              "    .dataframe tbody tr th:only-of-type {\n",
              "        vertical-align: middle;\n",
              "    }\n",
              "\n",
              "    .dataframe tbody tr th {\n",
              "        vertical-align: top;\n",
              "    }\n",
              "\n",
              "    .dataframe thead th {\n",
              "        text-align: right;\n",
              "    }\n",
              "</style>\n",
              "<table border=\"1\" class=\"dataframe\">\n",
              "  <thead>\n",
              "    <tr style=\"text-align: right;\">\n",
              "      <th></th>\n",
              "      <th>Year</th>\n",
              "      <th>Mileage</th>\n",
              "      <th>Model</th>\n",
              "    </tr>\n",
              "  </thead>\n",
              "  <tbody>\n",
              "    <tr>\n",
              "      <th>0</th>\n",
              "      <td>2014</td>\n",
              "      <td>35725</td>\n",
              "      <td>1194</td>\n",
              "    </tr>\n",
              "    <tr>\n",
              "      <th>1</th>\n",
              "      <td>2013</td>\n",
              "      <td>19606</td>\n",
              "      <td>1193</td>\n",
              "    </tr>\n",
              "    <tr>\n",
              "      <th>2</th>\n",
              "      <td>2013</td>\n",
              "      <td>48851</td>\n",
              "      <td>1194</td>\n",
              "    </tr>\n",
              "    <tr>\n",
              "      <th>3</th>\n",
              "      <td>2014</td>\n",
              "      <td>39922</td>\n",
              "      <td>1193</td>\n",
              "    </tr>\n",
              "    <tr>\n",
              "      <th>4</th>\n",
              "      <td>2016</td>\n",
              "      <td>22142</td>\n",
              "      <td>1196</td>\n",
              "    </tr>\n",
              "    <tr>\n",
              "      <th>...</th>\n",
              "      <td>...</td>\n",
              "      <td>...</td>\n",
              "      <td>...</td>\n",
              "    </tr>\n",
              "    <tr>\n",
              "      <th>852117</th>\n",
              "      <td>2017</td>\n",
              "      <td>9</td>\n",
              "      <td>2034</td>\n",
              "    </tr>\n",
              "    <tr>\n",
              "      <th>852118</th>\n",
              "      <td>2017</td>\n",
              "      <td>3201</td>\n",
              "      <td>2570</td>\n",
              "    </tr>\n",
              "    <tr>\n",
              "      <th>852119</th>\n",
              "      <td>2016</td>\n",
              "      <td>28941</td>\n",
              "      <td>2564</td>\n",
              "    </tr>\n",
              "    <tr>\n",
              "      <th>852120</th>\n",
              "      <td>2017</td>\n",
              "      <td>3005</td>\n",
              "      <td>2404</td>\n",
              "    </tr>\n",
              "    <tr>\n",
              "      <th>852121</th>\n",
              "      <td>2017</td>\n",
              "      <td>2502</td>\n",
              "      <td>2571</td>\n",
              "    </tr>\n",
              "  </tbody>\n",
              "</table>\n",
              "<p>852122 rows × 3 columns</p>\n",
              "</div>"
            ],
            "text/plain": [
              "        Year  Mileage  Model\n",
              "0       2014    35725   1194\n",
              "1       2013    19606   1193\n",
              "2       2013    48851   1194\n",
              "3       2014    39922   1193\n",
              "4       2016    22142   1196\n",
              "...      ...      ...    ...\n",
              "852117  2017        9   2034\n",
              "852118  2017     3201   2570\n",
              "852119  2016    28941   2564\n",
              "852120  2017     3005   2404\n",
              "852121  2017     2502   2571\n",
              "\n",
              "[852122 rows x 3 columns]"
            ]
          },
          "execution_count": 17,
          "metadata": {},
          "output_type": "execute_result"
        }
      ],
      "source": [
        "x"
      ]
    },
    {
      "cell_type": "code",
      "execution_count": 18,
      "metadata": {
        "id": "Pgwq0jYj8vJ3"
      },
      "outputs": [],
      "source": [
        "x_train,x_test,y_train,y_test=train_test_split(x,y,test_size=0.2,random_state=20)"
      ]
    },
    {
      "cell_type": "code",
      "execution_count": 19,
      "metadata": {
        "colab": {
          "base_uri": "https://localhost:8080/"
        },
        "id": "AGbJNl3O_sID",
        "outputId": "e4c4bbba-f191-4fec-847c-4d252dbc1fcc"
      },
      "outputs": [
        {
          "data": {
            "text/plain": [
              "((681697, 3), (170425, 3))"
            ]
          },
          "execution_count": 19,
          "metadata": {},
          "output_type": "execute_result"
        }
      ],
      "source": [
        "x_train.shape,x_test.shape"
      ]
    },
    {
      "cell_type": "code",
      "execution_count": 20,
      "metadata": {
        "colab": {
          "base_uri": "https://localhost:8080/"
        },
        "id": "Z6pV0-zW_urQ",
        "outputId": "c8baa3d2-a0e3-4bba-e7eb-50db239044da"
      },
      "outputs": [
        {
          "data": {
            "text/plain": [
              "((681697,), (170425,))"
            ]
          },
          "execution_count": 20,
          "metadata": {},
          "output_type": "execute_result"
        }
      ],
      "source": [
        "y_train.shape,y_test.shape"
      ]
    },
    {
      "cell_type": "code",
      "execution_count": 28,
      "metadata": {
        "colab": {
          "base_uri": "https://localhost:8080/"
        },
        "id": "08IH_4Ud_ytN",
        "outputId": "18b537a9-289e-4c70-9973-ecd16d460143"
      },
      "outputs": [
        {
          "data": {
            "text/plain": [
              "RandomForestRegressor(n_estimators=10)"
            ]
          },
          "execution_count": 28,
          "metadata": {},
          "output_type": "execute_result"
        }
      ],
      "source": [
        "#model building\n",
        "from sklearn.ensemble import RandomForestRegressor\n",
        "model=RandomForestRegressor(n_estimators=10,max_depth=None,min_samples_split=2)\n",
        "model.fit(x_train, y_train)\n",
        "\n",
        "\n",
        "\n"
      ]
    },
    {
      "cell_type": "code",
      "execution_count": 29,
      "metadata": {
        "id": "YqztzV5qBNpw"
      },
      "outputs": [],
      "source": [
        "y_pred=model.predict(x_test)"
      ]
    },
    {
      "cell_type": "code",
      "execution_count": 30,
      "metadata": {},
      "outputs": [
        {
          "data": {
            "text/plain": [
              "0.8564279095753157"
            ]
          },
          "execution_count": 30,
          "metadata": {},
          "output_type": "execute_result"
        }
      ],
      "source": [
        "from sklearn.metrics import r2_score\n",
        "r2_score(y_test,y_pred)"
      ]
    },
    {
      "cell_type": "code",
      "execution_count": 1,
      "metadata": {
        "id": "q-YEVQM6CG69"
      },
      "outputs": [
        {
          "ename": "NameError",
          "evalue": "name 'model' is not defined",
          "output_type": "error",
          "traceback": [
            "\u001b[1;31m---------------------------------------------------------------------------\u001b[0m",
            "\u001b[1;31mNameError\u001b[0m                                 Traceback (most recent call last)",
            "\u001b[1;32md:\\car_price\\model\\CAR_PRICE.ipynb Cell 1'\u001b[0m in \u001b[0;36m<cell line: 3>\u001b[1;34m()\u001b[0m\n\u001b[0;32m      <a href='vscode-notebook-cell:/d%3A/car_price/model/CAR_PRICE.ipynb#ch0000000?line=0'>1</a>\u001b[0m \u001b[39m#pickle\u001b[39;00m\n\u001b[0;32m      <a href='vscode-notebook-cell:/d%3A/car_price/model/CAR_PRICE.ipynb#ch0000000?line=1'>2</a>\u001b[0m \u001b[39mimport\u001b[39;00m \u001b[39mpickle\u001b[39;00m\n\u001b[1;32m----> <a href='vscode-notebook-cell:/d%3A/car_price/model/CAR_PRICE.ipynb#ch0000000?line=2'>3</a>\u001b[0m pickle\u001b[39m.\u001b[39mdump(model,\u001b[39mopen\u001b[39m(\u001b[39m'\u001b[39m\u001b[39mmodel.pkl\u001b[39m\u001b[39m'\u001b[39m,\u001b[39m'\u001b[39m\u001b[39mwb\u001b[39m\u001b[39m'\u001b[39m))\n",
            "\u001b[1;31mNameError\u001b[0m: name 'model' is not defined"
          ]
        }
      ],
      "source": [
        "#pickle\n",
        "import pickle\n",
        "pickle.dump(model,open('model.pkl','wb'))"
      ]
    },
    {
      "cell_type": "code",
      "execution_count": 34,
      "metadata": {},
      "outputs": [],
      "source": [
        "model1=pickle.load(open('model.pkl','rb'))"
      ]
    }
  ],
  "metadata": {
    "colab": {
      "collapsed_sections": [],
      "name": "CAR PRICE",
      "provenance": []
    },
    "kernelspec": {
      "display_name": "Python 3.9.12 ('base')",
      "language": "python",
      "name": "python3"
    },
    "language_info": {
      "codemirror_mode": {
        "name": "ipython",
        "version": 3
      },
      "file_extension": ".py",
      "mimetype": "text/x-python",
      "name": "python",
      "nbconvert_exporter": "python",
      "pygments_lexer": "ipython3",
      "version": "3.9.12"
    },
    "vscode": {
      "interpreter": {
        "hash": "f1ad40bb7cac2ea5b0e401f2815be5abcc0a8f1d7e044a68742bc01729a132d0"
      }
    }
  },
  "nbformat": 4,
  "nbformat_minor": 0
}
